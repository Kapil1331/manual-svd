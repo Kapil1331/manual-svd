{
 "cells": [
  {
   "cell_type": "code",
   "execution_count": 10,
   "id": "0c757333",
   "metadata": {},
   "outputs": [],
   "source": [
    "import matplotlib.pyplot as plt\n",
    "import numpy as np\n",
    "np.random.seed(55)\n",
    "\n",
    "nPoints = 20\n",
    "start = 10\n",
    "end = 30\n",
    "\n",
    "x = np.arange(start, end, (end - start)/nPoints )\n",
    "noise = 1 * np.around(np.random.randn(x.size), 2) + 0\n",
    "y = 0.5 * x + noise"
   ]
  },
  {
   "cell_type": "code",
   "execution_count": 11,
   "id": "9647cf4c",
   "metadata": {},
   "outputs": [
    {
     "data": {
      "text/plain": [
       "(array([10., 11., 12., 13., 14., 15., 16., 17., 18., 19., 20., 21., 22.,\n",
       "        23., 24., 25., 26., 27., 28., 29.]),\n",
       " 20)"
      ]
     },
     "execution_count": 11,
     "metadata": {},
     "output_type": "execute_result"
    }
   ],
   "source": [
    "x, x.size"
   ]
  },
  {
   "cell_type": "code",
   "execution_count": 12,
   "id": "38dc7bd7",
   "metadata": {},
   "outputs": [
    {
     "data": {
      "text/plain": [
       "(0.05449999999999999, 1.0517103926461886)"
      ]
     },
     "execution_count": 12,
     "metadata": {},
     "output_type": "execute_result"
    }
   ],
   "source": []
  },
  {
   "cell_type": "code",
   "execution_count": 13,
   "id": "1e0cde7f",
   "metadata": {},
   "outputs": [
    {
     "data": {
      "text/plain": [
       "(20,\n",
       " array([ 3.38,  5.4 ,  4.19,  6.76,  7.26,  7.12,  8.  ,  8.84,  9.9 ,\n",
       "         9.14, 11.66,  9.31, 12.67,  9.5 , 11.52, 13.87, 13.26, 14.2 ,\n",
       "        14.89, 15.22]))"
      ]
     },
     "execution_count": 13,
     "metadata": {},
     "output_type": "execute_result"
    }
   ],
   "source": [
    "y.size, y"
   ]
  },
  {
   "cell_type": "code",
   "execution_count": 14,
   "id": "1ad6ef34",
   "metadata": {},
   "outputs": [
    {
     "data": {
      "text/plain": [
       "array([-1.62, -0.1 , -1.81,  0.26,  0.26, -0.38,  0.  ,  0.34,  0.9 ,\n",
       "       -0.36,  1.66, -1.19,  1.67, -2.  , -0.48,  1.37,  0.26,  0.7 ,\n",
       "        0.89,  0.72])"
      ]
     },
     "execution_count": 14,
     "metadata": {},
     "output_type": "execute_result"
    }
   ],
   "source": [
    "noise"
   ]
  },
  {
   "cell_type": "code",
   "execution_count": 15,
   "id": "8bc48870",
   "metadata": {},
   "outputs": [
    {
     "data": {
      "text/plain": [
       "(0.0, 20.0)"
      ]
     },
     "execution_count": 15,
     "metadata": {},
     "output_type": "execute_result"
    },
    {
     "data": {
      "image/png": "[encoded data removed]",
      "text/plain": [
       "<Figure size 640x480 with 1 Axes>"
      ]
     },
     "metadata": {},
     "output_type": "display_data"
    }
   ],
   "source": [
    "plt.scatter(x, y, label='Data points')\n",
    "plt.xlim(0, 35)\n",
    "plt.ylim(0, 20)"
   ]
  },
  {
   "cell_type": "code",
   "execution_count": 16,
   "id": "1835e8c2",
   "metadata": {},
   "outputs": [
    {
     "data": {
      "text/plain": [
       "(2, 20)"
      ]
     },
     "execution_count": 16,
     "metadata": {},
     "output_type": "execute_result"
    }
   ],
   "source": [
    "a = np.array([x, y])\n",
    "a.shape"
   ]
  },
  {
   "cell_type": "code",
   "execution_count": 17,
   "id": "475f1657",
   "metadata": {},
   "outputs": [
    {
     "data": {
      "text/plain": [
       "array([[10.  , 11.  , 12.  , 13.  , 14.  , 15.  , 16.  , 17.  , 18.  ,\n",
       "        19.  , 20.  , 21.  , 22.  , 23.  , 24.  , 25.  , 26.  , 27.  ,\n",
       "        28.  , 29.  ],\n",
       "       [ 3.38,  5.4 ,  4.19,  6.76,  7.26,  7.12,  8.  ,  8.84,  9.9 ,\n",
       "         9.14, 11.66,  9.31, 12.67,  9.5 , 11.52, 13.87, 13.26, 14.2 ,\n",
       "        14.89, 15.22]])"
      ]
     },
     "execution_count": 17,
     "metadata": {},
     "output_type": "execute_result"
    }
   ],
   "source": [
    "a"
   ]
  },
  {
   "cell_type": "code",
   "execution_count": 14,
   "id": "6e4d42ca",
   "metadata": {},
   "outputs": [
    {
     "data": {
      "text/plain": [
       "array([[8270.    , 4205.58  ],\n",
       "       [4205.58  , 2160.2613]])"
      ]
     },
     "execution_count": 14,
     "metadata": {},
     "output_type": "execute_result"
    }
   ],
   "source": [
    "P = a @ a.T \n",
    "P"
   ]
  },
  {
   "cell_type": "code",
   "execution_count": 15,
   "id": "e480b11e",
   "metadata": {},
   "outputs": [],
   "source": [
    "w, u = np.linalg.eig(P)       # w -> eigen values v->eigen vectors"
   ]
  },
  {
   "cell_type": "code",
   "execution_count": 16,
   "id": "7f7a0fb8",
   "metadata": {},
   "outputs": [
    {
     "data": {
      "text/plain": [
       "((2,), (2, 2))"
      ]
     },
     "execution_count": 16,
     "metadata": {},
     "output_type": "execute_result"
    }
   ],
   "source": [
    "w.shape, u.shape"
   ]
  },
  {
   "cell_type": "code",
   "execution_count": 17,
   "id": "27ae98a8",
   "metadata": {},
   "outputs": [
    {
     "data": {
      "text/plain": [
       "(array([10413.12352052,    17.13777948]),\n",
       " array([[ 0.89098309, -0.4540365 ],\n",
       "        [ 0.4540365 ,  0.89098309]]))"
      ]
     },
     "execution_count": 17,
     "metadata": {},
     "output_type": "execute_result"
    }
   ],
   "source": [
    "w, u"
   ]
  },
  {
   "cell_type": "code",
   "execution_count": 18,
   "id": "28c24be5",
   "metadata": {},
   "outputs": [
    {
     "data": {
      "text/plain": [
       "(array([-0.4540365 ,  0.89098309]), 17.137779480704467)"
      ]
     },
     "execution_count": 18,
     "metadata": {},
     "output_type": "execute_result"
    }
   ],
   "source": [
    "# eigenvectors[:,i] is the eigenvector corresponding to the eigenvalue eigenvalues[i].\n",
    "u[:,1], w[1]"
   ]
  },
  {
   "cell_type": "code",
   "execution_count": 19,
   "id": "ab949119",
   "metadata": {},
   "outputs": [
    {
     "data": {
      "text/plain": [
       "(array([-7.78117735, 15.26947165]), array([-7.78117735, 15.26947165]))"
      ]
     },
     "execution_count": 19,
     "metadata": {},
     "output_type": "execute_result"
    }
   ],
   "source": [
    "P @ u[:,1], w[1] * u[:,1]"
   ]
  },
  {
   "cell_type": "code",
   "execution_count": 25,
   "id": "f82025a3",
   "metadata": {},
   "outputs": [
    {
     "data": {
      "text/plain": [
       "array([[10.  , 11.  , 12.  , 13.  , 14.  , 15.  , 16.  , 17.  , 18.  ,\n",
       "        19.  , 20.  , 21.  , 22.  , 23.  , 24.  , 25.  , 26.  , 27.  ,\n",
       "        28.  , 29.  ],\n",
       "       [ 3.38,  5.4 ,  4.19,  6.76,  7.26,  7.12,  8.  ,  8.84,  9.9 ,\n",
       "         9.14, 11.66,  9.31, 12.67,  9.5 , 11.52, 13.87, 13.26, 14.2 ,\n",
       "        14.89, 15.22]])"
      ]
     },
     "execution_count": 25,
     "metadata": {},
     "output_type": "execute_result"
    }
   ],
   "source": [
    "a"
   ]
  },
  {
   "cell_type": "code",
   "execution_count": null,
   "id": "d1948d31",
   "metadata": {},
   "outputs": [],
   "source": []
  },
  {
   "cell_type": "code",
   "execution_count": 20,
   "id": "10c21025",
   "metadata": {},
   "outputs": [
    {
     "data": {
      "text/plain": [
       "array([[ 111.4244,  128.252 ,  134.1622,  152.8488,  164.5388,  174.0656,\n",
       "         187.04  ,  199.8792,  213.462 ,  220.8932,  239.4108,  241.4678,\n",
       "         262.8246,  262.11  ,  278.9376,  296.8806,  304.8188,  317.996 ,\n",
       "         330.3282,  341.4436],\n",
       "       [ 128.252 ,  150.16  ,  154.626 ,  179.504 ,  193.204 ,  203.448 ,\n",
       "         219.2   ,  234.736 ,  251.46  ,  258.356 ,  282.964 ,  281.274 ,\n",
       "         310.418 ,  304.3   ,  326.208 ,  349.898 ,  357.604 ,  373.68  ,\n",
       "         388.406 ,  401.188 ],\n",
       "       [ 134.1622,  154.626 ,  161.5561,  184.3244,  198.4194,  209.8328,\n",
       "         225.52  ,  241.0396,  257.481 ,  266.2966,  288.8554,  291.0089,\n",
       "         317.0873,  315.805 ,  336.2688,  358.1153,  367.5594,  383.498 ,\n",
       "         398.3891,  411.7718],\n",
       "       [ 152.8488,  179.504 ,  184.3244,  214.6976,  231.0776,  243.1312,\n",
       "         262.08  ,  280.7584,  300.924 ,  308.7864,  338.8216,  335.9356,\n",
       "         371.6492,  363.22  ,  389.8752,  418.7612,  427.6376,  446.992 ,\n",
       "         464.6564,  479.8872],\n",
       "       [ 164.5388,  193.204 ,  198.4194,  231.0776,  248.7076,  261.6912,\n",
       "         282.08  ,  302.1784,  323.874 ,  332.3564,  364.6516,  361.5906,\n",
       "         399.9842,  390.97  ,  419.6352,  450.6962,  460.2676,  481.092 ,\n",
       "         500.1014,  516.4972],\n",
       "       [ 174.0656,  203.448 ,  209.8328,  243.1312,  261.6912,  275.6944,\n",
       "         296.96  ,  317.9408,  340.488 ,  350.0768,  383.0192,  381.2872,\n",
       "         420.2104,  412.64  ,  442.0224,  473.7544,  484.4112,  506.104 ,\n",
       "         526.0168,  543.3664],\n",
       "       [ 187.04  ,  219.2   ,  225.52  ,  262.08  ,  282.08  ,  296.96  ,\n",
       "         320.    ,  342.72  ,  367.2   ,  377.12  ,  413.28  ,  410.48  ,\n",
       "         453.36  ,  444.    ,  476.16  ,  510.96  ,  522.08  ,  545.6   ,\n",
       "         567.12  ,  585.76  ],\n",
       "       [ 199.8792,  234.736 ,  241.0396,  280.7584,  302.1784,  317.9408,\n",
       "         342.72  ,  367.1456,  393.516 ,  403.7976,  443.0744,  439.3004,\n",
       "         486.0028,  474.98  ,  509.8368,  547.6108,  559.2184,  584.528 ,\n",
       "         607.6276,  627.5448],\n",
       "       [ 213.462 ,  251.46  ,  257.481 ,  300.924 ,  323.874 ,  340.488 ,\n",
       "         367.2   ,  393.516 ,  422.01  ,  432.486 ,  475.434 ,  470.169 ,\n",
       "         521.433 ,  508.05  ,  546.048 ,  587.313 ,  599.274 ,  626.58  ,\n",
       "         651.411 ,  672.678 ],\n",
       "       [ 220.8932,  258.356 ,  266.2966,  308.7864,  332.3564,  350.0768,\n",
       "         377.12  ,  403.7976,  432.486 ,  444.5396,  486.5724,  484.0934,\n",
       "         533.8038,  523.83  ,  561.2928,  601.7718,  615.1964,  642.788 ,\n",
       "         668.0946,  690.1108],\n",
       "       [ 239.4108,  282.964 ,  288.8554,  338.8216,  364.6516,  383.0192,\n",
       "         413.28  ,  443.0744,  475.434 ,  486.5724,  535.9556,  528.5546,\n",
       "         587.7322,  570.77  ,  614.3232,  661.7242,  674.6116,  705.572 ,\n",
       "         733.6174,  757.4652],\n",
       "       [ 241.4678,  281.274 ,  291.0089,  335.9356,  361.5906,  381.2872,\n",
       "         410.48  ,  439.3004,  470.169 ,  484.0934,  528.5546,  527.6761,\n",
       "         579.9577,  571.445 ,  611.2512,  654.1297,  669.4506,  699.202 ,\n",
       "         726.6259,  750.6982],\n",
       "       [ 262.8246,  310.418 ,  317.0873,  371.6492,  399.9842,  420.2104,\n",
       "         453.36  ,  486.0028,  521.433 ,  533.8038,  587.7322,  579.9577,\n",
       "         644.5289,  626.365 ,  673.9584,  725.7329,  740.0042,  773.914 ,\n",
       "         804.6563,  830.8374],\n",
       "       [ 262.11  ,  304.3   ,  315.805 ,  363.22  ,  390.97  ,  412.64  ,\n",
       "         444.    ,  474.98  ,  508.05  ,  523.83  ,  570.77  ,  571.445 ,\n",
       "         626.365 ,  619.25  ,  661.44  ,  706.765 ,  723.97  ,  755.9   ,\n",
       "         785.455 ,  811.59  ],\n",
       "       [ 278.9376,  326.208 ,  336.2688,  389.8752,  419.6352,  442.0224,\n",
       "         476.16  ,  509.8368,  546.048 ,  561.2928,  614.3232,  611.2512,\n",
       "         673.9584,  661.44  ,  708.7104,  759.7824,  776.7552,  811.584 ,\n",
       "         843.5328,  871.3344],\n",
       "       [ 296.8806,  349.898 ,  358.1153,  418.7612,  450.6962,  473.7544,\n",
       "         510.96  ,  547.6108,  587.313 ,  601.7718,  661.7242,  654.1297,\n",
       "         725.7329,  706.765 ,  759.7824,  817.3769,  833.9162,  871.954 ,\n",
       "         906.5243,  936.1014],\n",
       "       [ 304.8188,  357.604 ,  367.5594,  427.6376,  460.2676,  484.4112,\n",
       "         522.08  ,  559.2184,  599.274 ,  615.1964,  674.6116,  669.4506,\n",
       "         740.0042,  723.97  ,  776.7552,  833.9162,  851.8276,  890.292 ,\n",
       "         925.4414,  955.8172],\n",
       "       [ 317.996 ,  373.68  ,  383.498 ,  446.992 ,  481.092 ,  506.104 ,\n",
       "         545.6   ,  584.528 ,  626.58  ,  642.788 ,  705.572 ,  699.202 ,\n",
       "         773.914 ,  755.9   ,  811.584 ,  871.954 ,  890.292 ,  930.64  ,\n",
       "         967.438 ,  999.124 ],\n",
       "       [ 330.3282,  388.406 ,  398.3891,  464.6564,  500.1014,  526.0168,\n",
       "         567.12  ,  607.6276,  651.411 ,  668.0946,  733.6174,  726.6259,\n",
       "         804.6563,  785.455 ,  843.5328,  906.5243,  925.4414,  967.438 ,\n",
       "        1005.7121, 1038.6258],\n",
       "       [ 341.4436,  401.188 ,  411.7718,  479.8872,  516.4972,  543.3664,\n",
       "         585.76  ,  627.5448,  672.678 ,  690.1108,  757.4652,  750.6982,\n",
       "         830.8374,  811.59  ,  871.3344,  936.1014,  955.8172,  999.124 ,\n",
       "        1038.6258, 1072.6484]])"
      ]
     },
     "execution_count": 20,
     "metadata": {},
     "output_type": "execute_result"
    }
   ],
   "source": [
    "P = a.T @ a \n",
    "P"
   ]
  },
  {
   "cell_type": "code",
   "execution_count": 21,
   "id": "419c1919",
   "metadata": {},
   "outputs": [
    {
     "data": {
      "text/plain": [
       "(20, 20)"
      ]
     },
     "execution_count": 21,
     "metadata": {},
     "output_type": "execute_result"
    }
   ],
   "source": [
    "P.shape"
   ]
  },
  {
   "cell_type": "code",
   "execution_count": 22,
   "id": "1fb1a7aa",
   "metadata": {},
   "outputs": [],
   "source": [
    "w, v = np.linalg.eig(P) "
   ]
  },
  {
   "cell_type": "code",
   "execution_count": 23,
   "id": "5900db6f",
   "metadata": {},
   "outputs": [
    {
     "data": {
      "text/plain": [
       "((20, 20), (20,))"
      ]
     },
     "execution_count": 23,
     "metadata": {},
     "output_type": "execute_result"
    }
   ],
   "source": [
    "v.shape, w.shape"
   ]
  },
  {
   "cell_type": "code",
   "execution_count": 24,
   "id": "9e650012",
   "metadata": {},
   "outputs": [
    {
     "data": {
      "text/plain": [
       "array([ 1.04131235e+04+0.00000000e+00j,  1.23730544e-13+0.00000000e+00j,\n",
       "        1.71377795e+01+0.00000000e+00j,  1.80153120e-13+0.00000000e+00j,\n",
       "       -1.48696231e-13+6.70156188e-14j, -1.48696231e-13-6.70156188e-14j,\n",
       "       -1.62589738e-13+0.00000000e+00j,  5.29464874e-14+7.03910138e-14j,\n",
       "        5.29464874e-14-7.03910138e-14j,  9.30729410e-14+1.42295569e-14j,\n",
       "        9.30729410e-14-1.42295569e-14j,  5.90159046e-14+1.11648937e-14j,\n",
       "        5.90159046e-14-1.11648937e-14j, -1.16024670e-13+0.00000000e+00j,\n",
       "       -8.99340264e-14+0.00000000e+00j, -6.49234402e-14+0.00000000e+00j,\n",
       "       -3.98339507e-14+0.00000000e+00j, -1.94371430e-14+1.10636434e-14j,\n",
       "       -1.94371430e-14-1.10636434e-14j, -1.67055263e-15+0.00000000e+00j])"
      ]
     },
     "execution_count": 24,
     "metadata": {},
     "output_type": "execute_result"
    }
   ],
   "source": [
    "# w = np.real(w)\n",
    "w"
   ]
  },
  {
   "cell_type": "code",
   "execution_count": 283,
   "id": "fb10ab21",
   "metadata": {},
   "outputs": [
    {
     "data": {
      "text/plain": [
       "array([10413.12352052+0.j,    17.13777948+0.j])"
      ]
     },
     "execution_count": 283,
     "metadata": {},
     "output_type": "execute_result"
    }
   ],
   "source": [
    "w = w[np.imag(w) == 0]\n",
    "w = w[w > 0.001]\n",
    "w\n",
    "# hence only i = 0  and i = 2 are retained"
   ]
  },
  {
   "cell_type": "code",
   "execution_count": 286,
   "id": "bee39b4c",
   "metadata": {},
   "outputs": [
    {
     "data": {
      "text/plain": [
       "(20,)"
      ]
     },
     "execution_count": 286,
     "metadata": {},
     "output_type": "execute_result"
    }
   ],
   "source": [
    "# hence modifing v accordingly\n",
    "# v[:,0],v[:,2]\n",
    "v[:,0].shape\n"
   ]
  },
  {
   "cell_type": "code",
   "execution_count": 324,
   "id": "7c956714",
   "metadata": {},
   "outputs": [
    {
     "data": {
      "text/plain": [
       "((2, 2), (2,), (20, 20))"
      ]
     },
     "execution_count": 324,
     "metadata": {},
     "output_type": "execute_result"
    }
   ],
   "source": [
    "u.shape, w.shape, v.shape"
   ]
  },
  {
   "cell_type": "code",
   "execution_count": 325,
   "id": "ed09104e",
   "metadata": {},
   "outputs": [
    {
     "data": {
      "text/plain": [
       "array([[-0.10235194+0.00000000e+00j, -0.92365458+0.00000000e+00j,\n",
       "         0.36930515+0.00000000e+00j,  0.03989789+0.00000000e+00j,\n",
       "        -0.0142247 +1.45717297e-02j, -0.0142247 -1.45717297e-02j,\n",
       "         0.01664251+0.00000000e+00j, -0.07255328+3.73723275e-02j,\n",
       "        -0.07255328-3.73723275e-02j,  0.22122471-1.50014332e-02j,\n",
       "         0.22122471+1.50014332e-02j,  0.0686173 +1.50803812e-02j,\n",
       "         0.0686173 -1.50803812e-02j, -0.05414722+0.00000000e+00j,\n",
       "        -0.02983474+0.00000000e+00j,  0.10858151+0.00000000e+00j,\n",
       "        -0.06411735+0.00000000e+00j,  0.0231024 +6.88914698e-02j,\n",
       "         0.0231024 -6.88914698e-02j,  0.02653674+0.00000000e+00j],\n",
       "       [-0.120071  +0.00000000e+00j,  0.03098886+0.00000000e+00j,\n",
       "         0.04422766+0.00000000e+00j, -0.08039551+0.00000000e+00j,\n",
       "        -0.06718214+5.74331421e-02j, -0.06718214-5.74331421e-02j,\n",
       "         0.05218078+0.00000000e+00j,  0.07657282+9.54979785e-02j,\n",
       "         0.07657282-9.54979785e-02j,  0.085135  -2.05193173e-02j,\n",
       "         0.085135  +2.05193173e-02j, -0.0017383 +3.52780070e-04j,\n",
       "        -0.0017383 -3.52780070e-04j, -0.02061238+0.00000000e+00j,\n",
       "        -0.02652363+0.00000000e+00j,  0.02356531+0.00000000e+00j,\n",
       "        -0.05123202+0.00000000e+00j,  0.02221374-2.13956115e-02j,\n",
       "         0.02221374+2.13956115e-02j, -0.02261125+0.00000000e+00j],\n",
       "       [-0.12341854+0.00000000e+00j,  0.17933639+0.00000000e+00j,\n",
       "         0.41432607+0.00000000e+00j,  0.02776195+0.00000000e+00j,\n",
       "         0.02242592+5.08805917e-03j,  0.02242592-5.08805917e-03j,\n",
       "         0.12419338+0.00000000e+00j,  0.07027748-3.19237831e-02j,\n",
       "         0.07027748+3.19237831e-02j,  0.10788259-1.25403557e-02j,\n",
       "         0.10788259+1.25403557e-02j,  0.00709881-8.08188042e-02j,\n",
       "         0.00709881+8.08188042e-02j, -0.01510354+0.00000000e+00j,\n",
       "         0.32658787+0.00000000e+00j,  0.26166278+0.00000000e+00j,\n",
       "        -0.09933285+0.00000000e+00j, -0.12475715+3.38000840e-01j,\n",
       "        -0.12475715-3.38000840e-01j, -0.21710845+0.00000000e+00j],\n",
       "       [-0.14358477+0.00000000e+00j,  0.00426583+0.00000000e+00j,\n",
       "        -0.02912503+0.00000000e+00j, -0.11502652+0.00000000e+00j,\n",
       "        -0.09356626-2.03930199e-02j, -0.09356626+2.03930199e-02j,\n",
       "        -0.0168931 +0.00000000e+00j,  0.12897818-1.05609273e-01j,\n",
       "         0.12897818+1.05609273e-01j, -0.05358089+2.32465028e-02j,\n",
       "        -0.05358089-2.32465028e-02j, -0.34713627-1.27945790e-02j,\n",
       "        -0.34713627+1.27945790e-02j,  0.20363284+0.00000000e+00j,\n",
       "        -0.09912136+0.00000000e+00j, -0.29754655+0.00000000e+00j,\n",
       "         0.2928812 +0.00000000e+00j, -0.55195104+0.00000000e+00j,\n",
       "        -0.55195104-0.00000000e+00j, -0.34833479+0.00000000e+00j],\n",
       "       [-0.15454077+0.00000000e+00j,  0.00630518+0.00000000e+00j,\n",
       "        -0.02706092+0.00000000e+00j,  0.11376674+0.00000000e+00j,\n",
       "         0.05488659-1.14998455e-01j,  0.05488659+1.14998455e-01j,\n",
       "         0.12561224+0.00000000e+00j, -0.02046109+1.50257372e-02j,\n",
       "        -0.02046109-1.50257372e-02j,  0.14984356-7.37803629e-02j,\n",
       "         0.14984356+7.37803629e-02j, -0.28883779+3.60968688e-02j,\n",
       "        -0.28883779-3.60968688e-02j,  0.27290358+0.00000000e+00j,\n",
       "         0.12312039+0.00000000e+00j, -0.00723088+0.00000000e+00j,\n",
       "         0.31269251+0.00000000e+00j,  0.02598153+7.93343307e-03j,\n",
       "         0.02598153-7.93343307e-03j, -0.4154132 +0.00000000e+00j],\n",
       "       [-0.16264915+0.00000000e+00j,  0.06310315+0.00000000e+00j,\n",
       "         0.11274702+0.00000000e+00j, -0.14765703+0.00000000e+00j,\n",
       "         0.18929956-1.31360846e-02j,  0.18929956+1.31360846e-02j,\n",
       "         0.07388503+0.00000000e+00j,  0.24283242+4.40250788e-02j,\n",
       "         0.24283242-4.40250788e-02j,  0.1203375 +2.13439737e-02j,\n",
       "         0.1203375 -2.13439737e-02j,  0.08370466-9.81041506e-02j,\n",
       "         0.08370466+9.81041506e-02j,  0.23202081+0.00000000e+00j,\n",
       "        -0.23478005+0.00000000e+00j, -0.23786269+0.00000000e+00j,\n",
       "        -0.05420551+0.00000000e+00j,  0.37473752-4.40989828e-02j,\n",
       "         0.37473752+4.40989828e-02j,  0.44500681+0.00000000e+00j],\n",
       "       [-0.17529591+0.00000000e+00j,  0.03262957+0.00000000e+00j,\n",
       "         0.03302573+0.00000000e+00j,  0.15405886+0.00000000e+00j,\n",
       "         0.02901527+1.04678821e-01j,  0.02901527-1.04678821e-01j,\n",
       "        -0.03912883+0.00000000e+00j,  0.10236015+4.23600034e-02j,\n",
       "         0.10236015-4.23600034e-02j, -0.28127466+1.88355548e-01j,\n",
       "        -0.28127466-1.88355548e-01j,  0.18116442-4.96240994e-02j,\n",
       "         0.18116442+4.96240994e-02j,  0.42378603+0.00000000e+00j,\n",
       "        -0.31679613+0.00000000e+00j, -0.20326097+0.00000000e+00j,\n",
       "        -0.42738387+0.00000000e+00j,  0.17467358+4.43376629e-02j,\n",
       "         0.17467358-4.43376629e-02j,  0.02532819+0.00000000e+00j],\n",
       "       [-0.1877647 +0.00000000e+00j,  0.0055784 +0.00000000e+00j,\n",
       "        -0.03808657+0.00000000e+00j,  0.14379698+0.00000000e+00j,\n",
       "        -0.3138101 +1.17028598e-01j, -0.3138101 -1.17028598e-01j,\n",
       "        -0.07390991+0.00000000e+00j, -0.11954761+6.78758623e-02j,\n",
       "        -0.11954761-6.78758623e-02j,  0.14735294+1.55150491e-01j,\n",
       "         0.14735294-1.55150491e-01j,  0.38416335+0.00000000e+00j,\n",
       "         0.38416335-0.00000000e+00j, -0.41141968+0.00000000e+00j,\n",
       "        -0.06690414+0.00000000e+00j,  0.28190567+0.00000000e+00j,\n",
       "         0.39176102+0.00000000e+00j, -0.06870522+2.21500813e-01j,\n",
       "        -0.06870522-2.21500813e-01j, -0.12600207+0.00000000e+00j],\n",
       "       [-0.20121235+0.00000000e+00j, -0.04029604+0.00000000e+00j,\n",
       "        -0.15654832+0.00000000e+00j,  0.25929109+0.00000000e+00j,\n",
       "        -0.29612593-9.59773599e-03j, -0.29612593+9.59773599e-03j,\n",
       "         0.16292456+0.00000000e+00j, -0.05315358+1.62189133e-01j,\n",
       "        -0.05315358-1.62189133e-01j,  0.20510706-5.05157376e-02j,\n",
       "         0.20510706+5.05157376e-02j,  0.16352565-1.13965686e-02j,\n",
       "         0.16352565+1.13965686e-02j, -0.18620427+0.00000000e+00j,\n",
       "        -0.21815366+0.00000000e+00j, -0.5327602 +0.00000000e+00j,\n",
       "        -0.06084217+0.00000000e+00j, -0.17534227-5.94833689e-02j,\n",
       "        -0.17534227+5.94833689e-02j,  0.07817168+0.00000000e+00j],\n",
       "       [-0.20656212+0.00000000e+00j,  0.06954933+0.00000000e+00j,\n",
       "         0.11669896+0.00000000e+00j, -0.02180917+0.00000000e+00j,\n",
       "        -0.193298  -1.67814807e-01j, -0.193298  +1.67814807e-01j,\n",
       "         0.5117279 +0.00000000e+00j, -0.2823534 -2.25369941e-01j,\n",
       "        -0.2823534 +2.25369941e-01j, -0.35168532-7.47096387e-02j,\n",
       "        -0.35168532+7.47096387e-02j, -0.29962305-3.70615140e-02j,\n",
       "        -0.29962305+3.70615140e-02j, -0.16893966+0.00000000e+00j,\n",
       "        -0.14094355+0.00000000e+00j,  0.24550898+0.00000000e+00j,\n",
       "         0.07899116+0.00000000e+00j,  0.08258671-7.75338012e-03j,\n",
       "         0.08258671+7.75338012e-03j,  0.28486223+0.00000000e+00j],\n",
       "       [-0.22650588+0.00000000e+00j, -0.10124321+0.00000000e+00j,\n",
       "        -0.3159909 +0.00000000e+00j, -0.34640422+0.00000000e+00j,\n",
       "         0.10906963+8.68232348e-02j,  0.10906963-8.68232348e-02j,\n",
       "         0.01207453+0.00000000e+00j,  0.07477822+3.96351529e-02j,\n",
       "         0.07477822-3.96351529e-02j,  0.0268141 -1.12677805e-01j,\n",
       "         0.0268141 +1.12677805e-01j,  0.33522327-1.02750355e-01j,\n",
       "         0.33522327+1.02750355e-01j,  0.4148995 +0.00000000e+00j,\n",
       "         0.31489729+0.00000000e+00j,  0.16144377+0.00000000e+00j,\n",
       "        -0.23472627+0.00000000e+00j,  0.15915081-9.13765875e-03j,\n",
       "         0.15915081+9.13765875e-03j,  0.22312644+0.00000000e+00j],\n",
       "       [-0.22478112+0.00000000e+00j,  0.14464311+0.00000000e+00j,\n",
       "         0.2994637 +0.00000000e+00j, -0.38895612+0.00000000e+00j,\n",
       "         0.16762867-6.98067969e-03j,  0.16762867+6.98067969e-03j,\n",
       "         0.12445632+0.00000000e+00j,  0.10387453+1.22575308e-02j,\n",
       "         0.10387453-1.22575308e-02j, -0.07816099-7.52566697e-03j,\n",
       "        -0.07816099+7.52566697e-03j,  0.09774102+6.17217339e-02j,\n",
       "         0.09774102-6.17217339e-02j, -0.05901707+0.00000000e+00j,\n",
       "        -0.09542027+0.00000000e+00j, -0.23191794+0.00000000e+00j,\n",
       "        -0.02456944+0.00000000e+00j, -0.07463626-1.90832034e-01j,\n",
       "        -0.07463626+1.90832034e-01j, -0.31618321+0.00000000e+00j],\n",
       "       [-0.24846236+0.00000000e+00j, -0.09802012+0.00000000e+00j,\n",
       "        -0.31401493+0.00000000e+00j, -0.19399601+0.00000000e+00j,\n",
       "        -0.08265842+1.96783795e-02j, -0.08265842-1.96783795e-02j,\n",
       "        -0.0815949 +0.00000000e+00j, -0.09788826-5.29148221e-02j,\n",
       "        -0.09788826+5.29148221e-02j, -0.19603897-1.34958672e-01j,\n",
       "        -0.19603897+1.34958672e-01j,  0.01471025+9.19230334e-02j,\n",
       "         0.01471025-9.19230334e-02j, -0.21625021+0.00000000e+00j,\n",
       "         0.00285538+0.00000000e+00j,  0.09240591+0.00000000e+00j,\n",
       "         0.32748268+0.00000000e+00j, -0.10819215+2.87980641e-01j,\n",
       "        -0.10819215-2.87980641e-01j, -0.14646993+0.00000000e+00j],\n",
       "       [-0.2430891 +0.00000000e+00j,  0.21802568+0.00000000e+00j,\n",
       "         0.47792396+0.00000000e+00j,  0.16185496+0.00000000e+00j,\n",
       "        -0.15797653-1.45943928e-01j, -0.15797653+1.45943928e-01j,\n",
       "         0.0170187 +0.00000000e+00j, -0.19978732+8.10755192e-02j,\n",
       "        -0.19978732-8.10755192e-02j, -0.02592049-3.07787534e-02j,\n",
       "        -0.02592049+3.07787534e-02j,  0.14747052+1.50292264e-01j,\n",
       "         0.14747052-1.50292264e-01j,  0.11031555+0.00000000e+00j,\n",
       "         0.20160898+0.00000000e+00j, -0.01428938+0.00000000e+00j,\n",
       "         0.27950814+0.00000000e+00j, -0.11495107-6.51616824e-02j,\n",
       "        -0.11495107+6.51616824e-02j,  0.14323235+0.00000000e+00j],\n",
       "       [-0.26080817+0.00000000e+00j,  0.09001331+0.00000000e+00j,\n",
       "         0.15284647+0.00000000e+00j, -0.45554203+0.00000000e+00j,\n",
       "         0.0067737 +2.25636663e-01j,  0.0067737 -2.25636663e-01j,\n",
       "        -0.5991057 +0.00000000e+00j,  0.01717354+8.66426140e-03j,\n",
       "         0.01717354-8.66426140e-03j, -0.09298268-2.60919044e-02j,\n",
       "        -0.09298268+2.60919044e-02j, -0.10317927-9.17032965e-02j,\n",
       "        -0.10317927+9.17032965e-02j, -0.07465054+0.00000000e+00j,\n",
       "        -0.24158725+0.00000000e+00j, -0.04084656+0.00000000e+00j,\n",
       "        -0.10550383+0.00000000e+00j,  0.11231933-3.65738141e-02j,\n",
       "         0.11231933+3.65738141e-02j,  0.0815658 +0.00000000e+00j],\n",
       "       [-0.27999553+0.00000000e+00j, -0.06623397+0.00000000e+00j,\n",
       "        -0.24325519+0.00000000e+00j, -0.20277747+0.00000000e+00j,\n",
       "        -0.21067047-2.93263805e-01j, -0.21067047+2.93263805e-01j,\n",
       "         0.41257322+0.00000000e+00j, -0.16749475+8.19078182e-02j,\n",
       "        -0.16749475-8.19078182e-02j, -0.08238801+2.08819300e-01j,\n",
       "        -0.08238801-2.08819300e-01j, -0.05073625+6.81911998e-02j,\n",
       "        -0.05073625-6.81911998e-02j, -0.18763966+0.00000000e+00j,\n",
       "         0.34152863+0.00000000e+00j,  0.15837084+0.00000000e+00j,\n",
       "         0.14099198+0.00000000e+00j, -0.0404812 +2.24461864e-02j,\n",
       "        -0.0404812 -2.24461864e-02j,  0.05023856+0.00000000e+00j],\n",
       "       [-0.2860127 +0.00000000e+00j,  0.03077736+0.00000000e+00j,\n",
       "        -0.00229162+0.00000000e+00j,  0.20877796+0.00000000e+00j,\n",
       "        -0.04448946+2.24525368e-01j, -0.04448946-2.24525368e-01j,\n",
       "        -0.22642098+0.00000000e+00j,  0.14923466+4.60687245e-02j,\n",
       "         0.14923466-4.60687245e-02j, -0.4680804 +0.00000000e+00j,\n",
       "        -0.4680804 -0.00000000e+00j, -0.08462253-1.59864645e-01j,\n",
       "        -0.08462253+1.59864645e-01j, -0.29467026+0.00000000e+00j,\n",
       "         0.5007213 +0.00000000e+00j,  0.01143304+0.00000000e+00j,\n",
       "         0.05325739+0.00000000e+00j,  0.15389247-3.12295286e-02j,\n",
       "         0.15389247+3.12295286e-02j,  0.34332388+0.00000000e+00j],\n",
       "       [-0.29892643+0.00000000e+00j, -0.00482985+0.00000000e+00j,\n",
       "        -0.0949264 +0.00000000e+00j,  0.39543187+0.00000000e+00j,\n",
       "         0.04745963-2.40837602e-01j,  0.04745963+2.40837602e-01j,\n",
       "        -0.00749236+0.00000000e+00j,  0.4646066 +0.00000000e+00j,\n",
       "         0.4646066 -0.00000000e+00j,  0.09658653-5.05911694e-03j,\n",
       "         0.09658653+5.05911694e-03j,  0.19614277-1.80913785e-01j,\n",
       "         0.19614277+1.80913785e-01j, -0.04686317+0.00000000e+00j,\n",
       "        -0.15609201+0.00000000e+00j, -0.19395101+0.00000000e+00j,\n",
       "        -0.29434416+0.00000000e+00j, -0.02438318-1.54054586e-01j,\n",
       "        -0.02438318+1.54054586e-01j, -0.14880528+0.00000000e+00j],\n",
       "       [-0.31072781+0.00000000e+00j, -0.01904696+0.00000000e+00j,\n",
       "        -0.13375499+0.00000000e+00j,  0.17557921+0.00000000e+00j,\n",
       "         0.45921683+0.00000000e+00j,  0.45921683-0.00000000e+00j,\n",
       "         0.008725  +0.00000000e+00j, -0.38434952+1.84371620e-01j,\n",
       "        -0.38434952-1.84371620e-01j,  0.28123117+1.84898057e-02j,\n",
       "         0.28123117-1.84898057e-02j, -0.16911393+2.22614381e-01j,\n",
       "        -0.16911393-2.22614381e-01j,  0.20538262+0.00000000e+00j,\n",
       "        -0.16274404+0.00000000e+00j,  0.38575229+0.00000000e+00j,\n",
       "         0.02098808+0.00000000e+00j, -0.13179603-7.05252531e-02j,\n",
       "        -0.13179603+7.05252531e-02j, -0.10093845+0.00000000e+00j],\n",
       "       [-0.3209274 +0.00000000e+00j, -0.00246236+0.00000000e+00j,\n",
       "        -0.09510268+0.00000000e+00j,  0.12862378+0.00000000e+00j,\n",
       "         0.1367531 +1.67092071e-01j,  0.1367531 -1.67092071e-01j,\n",
       "        -0.24804081+0.00000000e+00j,  0.06577284-3.92224441e-01j,\n",
       "         0.06577284+3.92224441e-01j,  0.32169097-4.38795391e-02j,\n",
       "         0.32169097+4.38795391e-02j, -0.24895113+7.70634737e-02j,\n",
       "        -0.24895113-7.70634737e-02j,  0.08953755+0.00000000e+00j,\n",
       "        -0.11769158+0.00000000e+00j, -0.0850479 +0.00000000e+00j,\n",
       "        -0.29804872+0.00000000e+00j,  0.1463703 -2.06869636e-02j,\n",
       "         0.1463703 +2.06869636e-02j, -0.0695044 +0.00000000e+00j]])"
      ]
     },
     "execution_count": 325,
     "metadata": {},
     "output_type": "execute_result"
    }
   ],
   "source": [
    "v"
   ]
  },
  {
   "cell_type": "code",
   "execution_count": 329,
   "id": "3b9eab16",
   "metadata": {},
   "outputs": [
    {
     "data": {
      "text/plain": [
       "array([10413.12352052+0.j,    17.13777948+0.j])"
      ]
     },
     "execution_count": 329,
     "metadata": {},
     "output_type": "execute_result"
    }
   ],
   "source": [
    "# U, S, VT = np.linalg.svd(a,full_matrices=False)"
   ]
  },
  {
   "cell_type": "code",
   "execution_count": 343,
   "id": "594f54ad",
   "metadata": {},
   "outputs": [
    {
     "name": "stderr",
     "output_type": "stream",
     "text": [
      "/tmp/ipykernel_31817/1329361346.py:3: ComplexWarning: Casting complex values to real discards the imaginary part\n",
      "  S[:, :2] = np.diag(w)\n"
     ]
    },
    {
     "data": {
      "text/plain": [
       "array([[10413.12352052,     0.        ,     0.        ,     0.        ,\n",
       "            0.        ,     0.        ,     0.        ,     0.        ,\n",
       "            0.        ,     0.        ,     0.        ,     0.        ,\n",
       "            0.        ,     0.        ,     0.        ,     0.        ,\n",
       "            0.        ,     0.        ,     0.        ,     0.        ],\n",
       "       [    0.        ,    17.13777948,     0.        ,     0.        ,\n",
       "            0.        ,     0.        ,     0.        ,     0.        ,\n",
       "            0.        ,     0.        ,     0.        ,     0.        ,\n",
       "            0.        ,     0.        ,     0.        ,     0.        ,\n",
       "            0.        ,     0.        ,     0.        ,     0.        ]])"
      ]
     },
     "execution_count": 343,
     "metadata": {},
     "output_type": "execute_result"
    }
   ],
   "source": [
    "# S = np.reshape(np.diag(w), (2,20))\n",
    "S = np.zeros((2, 20))\n",
    "S[:, :2] = np.diag(w)"
   ]
  },
  {
   "cell_type": "code",
   "execution_count": 332,
   "id": "9d879998",
   "metadata": {},
   "outputs": [],
   "source": [
    "U = u"
   ]
  },
  {
   "cell_type": "code",
   "execution_count": 333,
   "id": "de8f113e",
   "metadata": {},
   "outputs": [],
   "source": [
    "V = v"
   ]
  },
  {
   "cell_type": "code",
   "execution_count": 334,
   "id": "6dbbdd69",
   "metadata": {},
   "outputs": [
    {
     "data": {
      "text/plain": [
       "((2, 2), (2, 20), (20, 20))"
      ]
     },
     "execution_count": 334,
     "metadata": {},
     "output_type": "execute_result"
    }
   ],
   "source": [
    "U.shape, S.shape, V.T.shape"
   ]
  },
  {
   "cell_type": "code",
   "execution_count": 341,
   "id": "388ed036",
   "metadata": {},
   "outputs": [
    {
     "data": {
      "text/plain": [
       "array([[ 0.89098309, -0.4540365 ],\n",
       "       [ 0.4540365 ,  0.89098309]])"
      ]
     },
     "execution_count": 341,
     "metadata": {},
     "output_type": "execute_result"
    }
   ],
   "source": [
    "U"
   ]
  },
  {
   "cell_type": "code",
   "execution_count": 342,
   "id": "9c68b718",
   "metadata": {},
   "outputs": [
    {
     "data": {
      "text/plain": [
       "array([[10413.12352052,     0.        ,     0.        ,     0.        ,\n",
       "            0.        ,     0.        ,     0.        ,     0.        ,\n",
       "            0.        ,     0.        ,     0.        ,     0.        ,\n",
       "            0.        ,     0.        ,     0.        ,     0.        ,\n",
       "            0.        ,     0.        ,     0.        ,     0.        ],\n",
       "       [    0.        ,    17.13777948,     0.        ,     0.        ,\n",
       "            0.        ,     0.        ,     0.        ,     0.        ,\n",
       "            0.        ,     0.        ,     0.        ,     0.        ,\n",
       "            0.        ,     0.        ,     0.        ,     0.        ,\n",
       "            0.        ,     0.        ,     0.        ,     0.        ]])"
      ]
     },
     "execution_count": 342,
     "metadata": {},
     "output_type": "execute_result"
    }
   ],
   "source": [
    "S"
   ]
  },
  {
   "cell_type": "code",
   "execution_count": 353,
   "id": "853b0b9d",
   "metadata": {},
   "outputs": [
    {
     "data": {
      "text/plain": [
       "(array([[-0.10235194+0.j],\n",
       "        [-0.120071  +0.j],\n",
       "        [-0.12341854+0.j],\n",
       "        [-0.14358477+0.j],\n",
       "        [-0.15454077+0.j],\n",
       "        [-0.16264915+0.j],\n",
       "        [-0.17529591+0.j],\n",
       "        [-0.1877647 +0.j],\n",
       "        [-0.20121235+0.j],\n",
       "        [-0.20656212+0.j],\n",
       "        [-0.22650588+0.j],\n",
       "        [-0.22478112+0.j],\n",
       "        [-0.24846236+0.j],\n",
       "        [-0.2430891 +0.j],\n",
       "        [-0.26080817+0.j],\n",
       "        [-0.27999553+0.j],\n",
       "        [-0.2860127 +0.j],\n",
       "        [-0.29892643+0.j],\n",
       "        [-0.31072781+0.j],\n",
       "        [-0.3209274 +0.j]]),\n",
       " (17.137779480704815+0j))"
      ]
     },
     "execution_count": 353,
     "metadata": {},
     "output_type": "execute_result"
    }
   ],
   "source": [
    "V[:,:1], w[1]"
   ]
  },
  {
   "cell_type": "code",
   "execution_count": null,
   "id": "baa34a37",
   "metadata": {},
   "outputs": [],
   "source": []
  },
  {
   "cell_type": "code",
   "execution_count": null,
   "id": "6c4fc4f9",
   "metadata": {},
   "outputs": [],
   "source": []
  },
  {
   "cell_type": "code",
   "execution_count": null,
   "id": "c4ed5bb2",
   "metadata": {},
   "outputs": [],
   "source": []
  },
  {
   "cell_type": "code",
   "execution_count": null,
   "id": "0709a174",
   "metadata": {},
   "outputs": [],
   "source": []
  },
  {
   "cell_type": "code",
   "execution_count": null,
   "id": "76e71cf9",
   "metadata": {},
   "outputs": [],
   "source": []
  },
  {
   "cell_type": "code",
   "execution_count": 354,
   "id": "e51a5a02",
   "metadata": {},
   "outputs": [],
   "source": [
    "U, S, VT = np.linalg.svd(a,full_matrices=False)"
   ]
  },
  {
   "cell_type": "code",
   "execution_count": 360,
   "id": "bda56560",
   "metadata": {},
   "outputs": [
    {
     "data": {
      "text/plain": [
       "(20,)"
      ]
     },
     "execution_count": 360,
     "metadata": {},
     "output_type": "execute_result"
    }
   ],
   "source": [
    "U "
   ]
  },
  {
   "cell_type": "code",
   "execution_count": 359,
   "id": "1cf39c5b",
   "metadata": {},
   "outputs": [
    {
     "data": {
      "text/plain": [
       "array([[ 111.4244,  128.252 ,  134.1622,  152.8488,  164.5388,  174.0656,\n",
       "         187.04  ,  199.8792,  213.462 ,  220.8932,  239.4108,  241.4678,\n",
       "         262.8246,  262.11  ,  278.9376,  296.8806,  304.8188,  317.996 ,\n",
       "         330.3282,  341.4436],\n",
       "       [ 128.252 ,  150.16  ,  154.626 ,  179.504 ,  193.204 ,  203.448 ,\n",
       "         219.2   ,  234.736 ,  251.46  ,  258.356 ,  282.964 ,  281.274 ,\n",
       "         310.418 ,  304.3   ,  326.208 ,  349.898 ,  357.604 ,  373.68  ,\n",
       "         388.406 ,  401.188 ],\n",
       "       [ 134.1622,  154.626 ,  161.5561,  184.3244,  198.4194,  209.8328,\n",
       "         225.52  ,  241.0396,  257.481 ,  266.2966,  288.8554,  291.0089,\n",
       "         317.0873,  315.805 ,  336.2688,  358.1153,  367.5594,  383.498 ,\n",
       "         398.3891,  411.7718],\n",
       "       [ 152.8488,  179.504 ,  184.3244,  214.6976,  231.0776,  243.1312,\n",
       "         262.08  ,  280.7584,  300.924 ,  308.7864,  338.8216,  335.9356,\n",
       "         371.6492,  363.22  ,  389.8752,  418.7612,  427.6376,  446.992 ,\n",
       "         464.6564,  479.8872],\n",
       "       [ 164.5388,  193.204 ,  198.4194,  231.0776,  248.7076,  261.6912,\n",
       "         282.08  ,  302.1784,  323.874 ,  332.3564,  364.6516,  361.5906,\n",
       "         399.9842,  390.97  ,  419.6352,  450.6962,  460.2676,  481.092 ,\n",
       "         500.1014,  516.4972],\n",
       "       [ 174.0656,  203.448 ,  209.8328,  243.1312,  261.6912,  275.6944,\n",
       "         296.96  ,  317.9408,  340.488 ,  350.0768,  383.0192,  381.2872,\n",
       "         420.2104,  412.64  ,  442.0224,  473.7544,  484.4112,  506.104 ,\n",
       "         526.0168,  543.3664],\n",
       "       [ 187.04  ,  219.2   ,  225.52  ,  262.08  ,  282.08  ,  296.96  ,\n",
       "         320.    ,  342.72  ,  367.2   ,  377.12  ,  413.28  ,  410.48  ,\n",
       "         453.36  ,  444.    ,  476.16  ,  510.96  ,  522.08  ,  545.6   ,\n",
       "         567.12  ,  585.76  ],\n",
       "       [ 199.8792,  234.736 ,  241.0396,  280.7584,  302.1784,  317.9408,\n",
       "         342.72  ,  367.1456,  393.516 ,  403.7976,  443.0744,  439.3004,\n",
       "         486.0028,  474.98  ,  509.8368,  547.6108,  559.2184,  584.528 ,\n",
       "         607.6276,  627.5448],\n",
       "       [ 213.462 ,  251.46  ,  257.481 ,  300.924 ,  323.874 ,  340.488 ,\n",
       "         367.2   ,  393.516 ,  422.01  ,  432.486 ,  475.434 ,  470.169 ,\n",
       "         521.433 ,  508.05  ,  546.048 ,  587.313 ,  599.274 ,  626.58  ,\n",
       "         651.411 ,  672.678 ],\n",
       "       [ 220.8932,  258.356 ,  266.2966,  308.7864,  332.3564,  350.0768,\n",
       "         377.12  ,  403.7976,  432.486 ,  444.5396,  486.5724,  484.0934,\n",
       "         533.8038,  523.83  ,  561.2928,  601.7718,  615.1964,  642.788 ,\n",
       "         668.0946,  690.1108],\n",
       "       [ 239.4108,  282.964 ,  288.8554,  338.8216,  364.6516,  383.0192,\n",
       "         413.28  ,  443.0744,  475.434 ,  486.5724,  535.9556,  528.5546,\n",
       "         587.7322,  570.77  ,  614.3232,  661.7242,  674.6116,  705.572 ,\n",
       "         733.6174,  757.4652],\n",
       "       [ 241.4678,  281.274 ,  291.0089,  335.9356,  361.5906,  381.2872,\n",
       "         410.48  ,  439.3004,  470.169 ,  484.0934,  528.5546,  527.6761,\n",
       "         579.9577,  571.445 ,  611.2512,  654.1297,  669.4506,  699.202 ,\n",
       "         726.6259,  750.6982],\n",
       "       [ 262.8246,  310.418 ,  317.0873,  371.6492,  399.9842,  420.2104,\n",
       "         453.36  ,  486.0028,  521.433 ,  533.8038,  587.7322,  579.9577,\n",
       "         644.5289,  626.365 ,  673.9584,  725.7329,  740.0042,  773.914 ,\n",
       "         804.6563,  830.8374],\n",
       "       [ 262.11  ,  304.3   ,  315.805 ,  363.22  ,  390.97  ,  412.64  ,\n",
       "         444.    ,  474.98  ,  508.05  ,  523.83  ,  570.77  ,  571.445 ,\n",
       "         626.365 ,  619.25  ,  661.44  ,  706.765 ,  723.97  ,  755.9   ,\n",
       "         785.455 ,  811.59  ],\n",
       "       [ 278.9376,  326.208 ,  336.2688,  389.8752,  419.6352,  442.0224,\n",
       "         476.16  ,  509.8368,  546.048 ,  561.2928,  614.3232,  611.2512,\n",
       "         673.9584,  661.44  ,  708.7104,  759.7824,  776.7552,  811.584 ,\n",
       "         843.5328,  871.3344],\n",
       "       [ 296.8806,  349.898 ,  358.1153,  418.7612,  450.6962,  473.7544,\n",
       "         510.96  ,  547.6108,  587.313 ,  601.7718,  661.7242,  654.1297,\n",
       "         725.7329,  706.765 ,  759.7824,  817.3769,  833.9162,  871.954 ,\n",
       "         906.5243,  936.1014],\n",
       "       [ 304.8188,  357.604 ,  367.5594,  427.6376,  460.2676,  484.4112,\n",
       "         522.08  ,  559.2184,  599.274 ,  615.1964,  674.6116,  669.4506,\n",
       "         740.0042,  723.97  ,  776.7552,  833.9162,  851.8276,  890.292 ,\n",
       "         925.4414,  955.8172],\n",
       "       [ 317.996 ,  373.68  ,  383.498 ,  446.992 ,  481.092 ,  506.104 ,\n",
       "         545.6   ,  584.528 ,  626.58  ,  642.788 ,  705.572 ,  699.202 ,\n",
       "         773.914 ,  755.9   ,  811.584 ,  871.954 ,  890.292 ,  930.64  ,\n",
       "         967.438 ,  999.124 ],\n",
       "       [ 330.3282,  388.406 ,  398.3891,  464.6564,  500.1014,  526.0168,\n",
       "         567.12  ,  607.6276,  651.411 ,  668.0946,  733.6174,  726.6259,\n",
       "         804.6563,  785.455 ,  843.5328,  906.5243,  925.4414,  967.438 ,\n",
       "        1005.7121, 1038.6258],\n",
       "       [ 341.4436,  401.188 ,  411.7718,  479.8872,  516.4972,  543.3664,\n",
       "         585.76  ,  627.5448,  672.678 ,  690.1108,  757.4652,  750.6982,\n",
       "         830.8374,  811.59  ,  871.3344,  936.1014,  955.8172,  999.124 ,\n",
       "        1038.6258, 1072.6484]])"
      ]
     },
     "execution_count": 359,
     "metadata": {},
     "output_type": "execute_result"
    }
   ],
   "source": [
    "P"
   ]
  },
  {
   "cell_type": "code",
   "execution_count": 357,
   "id": "8856d698",
   "metadata": {},
   "outputs": [
    {
     "data": {
      "text/plain": [
       "array([[-0.10235194, -0.120071  , -0.12341854, -0.14358477, -0.15454077,\n",
       "        -0.16264915, -0.17529591, -0.1877647 , -0.20121235, -0.20656212,\n",
       "        -0.22650588, -0.22478112, -0.24846236, -0.2430891 , -0.26080817,\n",
       "        -0.27999553, -0.2860127 , -0.29892643, -0.31072781, -0.3209274 ],\n",
       "       [-0.36930515, -0.04422766, -0.41432607,  0.02912503,  0.02706092,\n",
       "        -0.11274702, -0.03302573,  0.03808657,  0.15654832, -0.11669896,\n",
       "         0.3159909 , -0.2994637 ,  0.31401493, -0.47792396, -0.15284647,\n",
       "         0.24325519,  0.00229162,  0.0949264 ,  0.13375499,  0.09510268]])"
      ]
     },
     "execution_count": 357,
     "metadata": {},
     "output_type": "execute_result"
    }
   ],
   "source": [
    "VT"
   ]
  },
  {
   "cell_type": "code",
   "execution_count": null,
   "id": "61f608f6",
   "metadata": {},
   "outputs": [],
   "source": []
  }
 ],
 "metadata": {
  "kernelspec": {
   "display_name": "Python 3 (ipykernel)",
   "language": "python",
   "name": "python3"
  },
  "language_info": {
   "codemirror_mode": {
    "name": "ipython",
    "version": 3
   },
   "file_extension": ".py",
   "mimetype": "text/x-python",
   "name": "python",
   "nbconvert_exporter": "python",
   "pygments_lexer": "ipython3",
   "version": "3.11.2"
  }
 },
 "nbformat": 4,
 "nbformat_minor": 5
}
