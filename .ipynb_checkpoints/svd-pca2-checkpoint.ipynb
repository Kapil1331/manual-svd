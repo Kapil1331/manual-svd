{
 "cells": [
  {
   "cell_type": "code",
   "execution_count": 1,
   "id": "f0ef7b08",
   "metadata": {},
   "outputs": [],
   "source": [
    "import matplotlib.pyplot as plt\n",
    "import numpy as np\n",
    "np.random.seed(55)\n",
    "\n",
    "nPoints = 20\n",
    "start = 10\n",
    "end = 30\n",
    "\n",
    "x = np.arange(start, end, (end - start)/nPoints )\n",
    "noise = 1 * np.around(np.random.randn(x.size), 2) + 0\n",
    "y = 0.5 * x  + noise\n",
    "# y = np.sqrt(900-np.square(x))"
   ]
  },
  {
   "cell_type": "code",
   "execution_count": 2,
   "id": "839ddf0b",
   "metadata": {},
   "outputs": [
    {
     "data": {
      "text/plain": [
       "(array([10., 11., 12., 13., 14., 15., 16., 17., 18., 19., 20., 21., 22.,\n",
       "        23., 24., 25., 26., 27., 28., 29.]),\n",
       " (20,))"
      ]
     },
     "execution_count": 2,
     "metadata": {},
     "output_type": "execute_result"
    }
   ],
   "source": [
    "x, x.shape"
   ]
  },
  {
   "cell_type": "code",
   "execution_count": 3,
   "id": "bd098074",
   "metadata": {},
   "outputs": [
    {
     "data": {
      "text/plain": [
       "(0.05449999999999999, 1.0517103926461886)"
      ]
     },
     "execution_count": 3,
     "metadata": {},
     "output_type": "execute_result"
    }
   ],
   "source": [
    "noise.mean(), noise.std()"
   ]
  },
  {
   "cell_type": "code",
   "execution_count": 4,
   "id": "b30b626f",
   "metadata": {},
   "outputs": [
    {
     "data": {
      "text/plain": [
       "(array([ 3.38,  5.4 ,  4.19,  6.76,  7.26,  7.12,  8.  ,  8.84,  9.9 ,\n",
       "         9.14, 11.66,  9.31, 12.67,  9.5 , 11.52, 13.87, 13.26, 14.2 ,\n",
       "        14.89, 15.22]),\n",
       " (20,))"
      ]
     },
     "execution_count": 4,
     "metadata": {},
     "output_type": "execute_result"
    }
   ],
   "source": [
    "y, y.shape"
   ]
  },
  {
   "cell_type": "code",
   "execution_count": 5,
   "id": "36a33fbf",
   "metadata": {},
   "outputs": [
    {
     "data": {
      "text/plain": [
       "(0.0, 20.0)"
      ]
     },
     "execution_count": 5,
     "metadata": {},
     "output_type": "execute_result"
    },
    {
     "data": {
      "image/png": "[encoded data removed]",
      "text/plain": [
       "<Figure size 640x480 with 1 Axes>"
      ]
     },
     "metadata": {},
     "output_type": "display_data"
    }
   ],
   "source": [
    "plt.scatter(x, y, label='Data points')\n",
    "# ax.set_aspect('equal')\n",
    "plt.xlim(0, 35)\n",
    "plt.ylim(0, 20)\n"
   ]
  },
  {
   "cell_type": "code",
   "execution_count": 6,
   "id": "4f9c85fd",
   "metadata": {},
   "outputs": [
    {
     "data": {
      "text/plain": [
       "((2, 20),\n",
       " array([[10.  , 11.  , 12.  , 13.  , 14.  , 15.  , 16.  , 17.  , 18.  ,\n",
       "         19.  , 20.  , 21.  , 22.  , 23.  , 24.  , 25.  , 26.  , 27.  ,\n",
       "         28.  , 29.  ],\n",
       "        [ 3.38,  5.4 ,  4.19,  6.76,  7.26,  7.12,  8.  ,  8.84,  9.9 ,\n",
       "          9.14, 11.66,  9.31, 12.67,  9.5 , 11.52, 13.87, 13.26, 14.2 ,\n",
       "         14.89, 15.22]]))"
      ]
     },
     "execution_count": 6,
     "metadata": {},
     "output_type": "execute_result"
    }
   ],
   "source": [
    "A = np.vstack((x, y))\n",
    "A.shape, A"
   ]
  },
  {
   "cell_type": "code",
   "execution_count": 7,
   "id": "9801d60f",
   "metadata": {},
   "outputs": [],
   "source": [
    "# AtA = np.cov(A, rowvar=False)"
   ]
  },
  {
   "cell_type": "code",
   "execution_count": 8,
   "id": "b2fff6fb",
   "metadata": {},
   "outputs": [],
   "source": [
    "AtA = A.T @ A\n",
    "# AtA"
   ]
  },
  {
   "cell_type": "code",
   "execution_count": 9,
   "id": "b46bd26e",
   "metadata": {},
   "outputs": [],
   "source": [
    "eigenvalues_AtA, eigenvectors_AtA = np.linalg.eig(AtA)\n",
    "\n",
    "sorted_indices = np.argsort(eigenvalues_AtA)[::-1]\n",
    "eigenvalues_AtA = eigenvalues_AtA[sorted_indices]\n",
    "eigenvectors_AtA = eigenvectors_AtA[:, sorted_indices]"
   ]
  },
  {
   "cell_type": "code",
   "execution_count": 10,
   "id": "e618851d",
   "metadata": {},
   "outputs": [],
   "source": [
    "# eigenvalues_AtA"
   ]
  },
  {
   "cell_type": "code",
   "execution_count": 11,
   "id": "ca234adb",
   "metadata": {},
   "outputs": [],
   "source": [
    "# eigenvectors_AtA"
   ]
  },
  {
   "cell_type": "code",
   "execution_count": 12,
   "id": "333f13ab",
   "metadata": {},
   "outputs": [],
   "source": [
    "eigenvectors_AtA_normalized = eigenvectors_AtA / np.linalg.norm(eigenvectors_AtA, axis=0)"
   ]
  },
  {
   "cell_type": "code",
   "execution_count": 13,
   "id": "db8aa3c5",
   "metadata": {},
   "outputs": [],
   "source": [
    "V = eigenvectors_AtA_normalized"
   ]
  },
  {
   "cell_type": "code",
   "execution_count": 14,
   "id": "01789cb9",
   "metadata": {},
   "outputs": [
    {
     "data": {
      "text/plain": [
       "(20, 20)"
      ]
     },
     "execution_count": 14,
     "metadata": {},
     "output_type": "execute_result"
    }
   ],
   "source": [
    "V.shape"
   ]
  },
  {
   "cell_type": "code",
   "execution_count": null,
   "id": "2da321f2",
   "metadata": {},
   "outputs": [],
   "source": []
  },
  {
   "cell_type": "code",
   "execution_count": 15,
   "id": "b4aabf96",
   "metadata": {},
   "outputs": [],
   "source": [
    "# AAt = np.cov(A, rowvar=True)"
   ]
  },
  {
   "cell_type": "code",
   "execution_count": 16,
   "id": "ad8122be",
   "metadata": {},
   "outputs": [
    {
     "data": {
      "text/plain": [
       "array([[8270.    , 4205.58  ],\n",
       "       [4205.58  , 2160.2613]])"
      ]
     },
     "execution_count": 16,
     "metadata": {},
     "output_type": "execute_result"
    }
   ],
   "source": [
    "AAt = A @ A.T\n",
    "AAt"
   ]
  },
  {
   "cell_type": "code",
   "execution_count": 17,
   "id": "ddfda72d",
   "metadata": {},
   "outputs": [],
   "source": [
    "eigenvalues_AAt, eigenvectors_AAt = np.linalg.eig(AAt)\n",
    "\n",
    "sorted_indices = np.argsort(eigenvalues_AAt)[::-1]\n",
    "eigenvalues_AAt = eigenvalues_AAt[sorted_indices]\n",
    "eigenvectors_AAt = eigenvectors_AAt[:, sorted_indices]"
   ]
  },
  {
   "cell_type": "code",
   "execution_count": 18,
   "id": "450df0de",
   "metadata": {},
   "outputs": [],
   "source": [
    "# eigenvalues_AAt"
   ]
  },
  {
   "cell_type": "code",
   "execution_count": 19,
   "id": "1691029d",
   "metadata": {},
   "outputs": [],
   "source": [
    "# eigenvectors_AAt"
   ]
  },
  {
   "cell_type": "code",
   "execution_count": 20,
   "id": "36de577b",
   "metadata": {},
   "outputs": [],
   "source": [
    "# AtA @ eigenvectors_AtA[:,0] = eigenvalues_AtA[0] * eigenvectors_AtA[:,0]"
   ]
  },
  {
   "cell_type": "code",
   "execution_count": 21,
   "id": "5db44b90",
   "metadata": {},
   "outputs": [],
   "source": [
    "eigenvectors_AAt_normalized = eigenvectors_AAt / np.linalg.norm(eigenvectors_AAt, axis=0)"
   ]
  },
  {
   "cell_type": "code",
   "execution_count": 22,
   "id": "5cc47d44",
   "metadata": {},
   "outputs": [],
   "source": [
    "U = eigenvectors_AAt_normalized "
   ]
  },
  {
   "cell_type": "code",
   "execution_count": 23,
   "id": "81658139",
   "metadata": {},
   "outputs": [
    {
     "data": {
      "text/plain": [
       "array([[ 0.89098309, -0.4540365 ],\n",
       "       [ 0.4540365 ,  0.89098309]])"
      ]
     },
     "execution_count": 23,
     "metadata": {},
     "output_type": "execute_result"
    }
   ],
   "source": [
    "U"
   ]
  },
  {
   "cell_type": "code",
   "execution_count": 24,
   "id": "c293d6e1",
   "metadata": {},
   "outputs": [
    {
     "data": {
      "text/plain": [
       "array([102.04471334,   4.13978012])"
      ]
     },
     "execution_count": 24,
     "metadata": {},
     "output_type": "execute_result"
    }
   ],
   "source": [
    "np.sqrt(eigenvalues_AAt) # S"
   ]
  },
  {
   "cell_type": "code",
   "execution_count": 25,
   "id": "35fe2f7f",
   "metadata": {},
   "outputs": [],
   "source": [
    "u, s, vt = np.linalg.svd(A,full_matrices=False)"
   ]
  },
  {
   "cell_type": "code",
   "execution_count": 26,
   "id": "a4b7cb79",
   "metadata": {},
   "outputs": [
    {
     "data": {
      "text/plain": [
       "array([[-0.89098309, -0.4540365 ],\n",
       "       [-0.4540365 ,  0.89098309]])"
      ]
     },
     "execution_count": 26,
     "metadata": {},
     "output_type": "execute_result"
    }
   ],
   "source": [
    "u"
   ]
  },
  {
   "cell_type": "code",
   "execution_count": 27,
   "id": "e856bddf",
   "metadata": {},
   "outputs": [
    {
     "data": {
      "text/plain": [
       "array([[-0.89098309, -0.4540365 ],\n",
       "       [-0.4540365 ,  0.89098309]])"
      ]
     },
     "execution_count": 27,
     "metadata": {},
     "output_type": "execute_result"
    }
   ],
   "source": [
    "U[:,0] = U[:,0] * -1\n",
    "U"
   ]
  },
  {
   "cell_type": "code",
   "execution_count": 28,
   "id": "f1560e0e",
   "metadata": {},
   "outputs": [],
   "source": [
    "# vt"
   ]
  },
  {
   "cell_type": "code",
   "execution_count": 29,
   "id": "38f27069",
   "metadata": {},
   "outputs": [
    {
     "data": {
      "text/plain": [
       "(array([-0.10235194+0.j, -0.120071  +0.j, -0.12341854+0.j, -0.14358477+0.j,\n",
       "        -0.15454077+0.j, -0.16264915+0.j, -0.17529591+0.j, -0.1877647 +0.j,\n",
       "        -0.20121235+0.j, -0.20656212+0.j, -0.22650588+0.j, -0.22478112+0.j,\n",
       "        -0.24846236+0.j, -0.2430891 +0.j, -0.26080817+0.j, -0.27999553+0.j,\n",
       "        -0.2860127 +0.j, -0.29892643+0.j, -0.31072781+0.j, -0.3209274 +0.j]),\n",
       " array([ 0.36930515+0.j,  0.04422766+0.j,  0.41432607+0.j, -0.02912503+0.j,\n",
       "        -0.02706092+0.j,  0.11274702+0.j,  0.03302573+0.j, -0.03808657+0.j,\n",
       "        -0.15654832+0.j,  0.11669896+0.j, -0.3159909 +0.j,  0.2994637 +0.j,\n",
       "        -0.31401493+0.j,  0.47792396+0.j,  0.15284647+0.j, -0.24325519+0.j,\n",
       "        -0.00229162+0.j, -0.0949264 +0.j, -0.13375499+0.j, -0.09510268+0.j]))"
      ]
     },
     "execution_count": 29,
     "metadata": {},
     "output_type": "execute_result"
    }
   ],
   "source": [
    "V[:,0],V[:,1]\n"
   ]
  },
  {
   "cell_type": "code",
   "execution_count": 30,
   "id": "856f22db",
   "metadata": {},
   "outputs": [
    {
     "data": {
      "text/plain": [
       "(20, 2)"
      ]
     },
     "execution_count": 30,
     "metadata": {},
     "output_type": "execute_result"
    }
   ],
   "source": [
    "V = V[:,0:2]\n",
    "V.shape"
   ]
  },
  {
   "cell_type": "code",
   "execution_count": 31,
   "id": "157a987d",
   "metadata": {},
   "outputs": [],
   "source": [
    "# s"
   ]
  },
  {
   "cell_type": "code",
   "execution_count": 32,
   "id": "a00520dd",
   "metadata": {},
   "outputs": [
    {
     "data": {
      "text/plain": [
       "array([[102.04471334,   0.        ],\n",
       "       [  0.        ,   4.13978012]])"
      ]
     },
     "execution_count": 32,
     "metadata": {},
     "output_type": "execute_result"
    }
   ],
   "source": [
    "temp = np.sqrt(eigenvalues_AAt)\n",
    "S = np.diag(np.sqrt(eigenvalues_AAt))\n",
    "S"
   ]
  },
  {
   "cell_type": "code",
   "execution_count": 33,
   "id": "f411d027",
   "metadata": {},
   "outputs": [
    {
     "data": {
      "text/plain": [
       "()"
      ]
     },
     "execution_count": 33,
     "metadata": {},
     "output_type": "execute_result"
    }
   ],
   "source": [
    "Aavg = np.mean(A,axis=1)\n",
    "Aavg[0].shape\n",
    "# A[0].shape"
   ]
  },
  {
   "cell_type": "code",
   "execution_count": 34,
   "id": "6baa498b",
   "metadata": {},
   "outputs": [
    {
     "data": {
      "text/plain": [
       "array([[ 8.61169975+0.j, 10.83373838+0.j, 10.44245611+0.j,\n",
       "        13.10948746+0.j, 14.10172802+0.j, 14.57615886+0.j,\n",
       "        15.87584894+0.j, 17.14317591+0.j, 18.58849997+0.j,\n",
       "        18.56130265+0.j, 21.18788012+0.j, 19.8742493 +0.j,\n",
       "        23.18045201+0.j, 21.2033775 +0.j, 23.42541612+0.j,\n",
       "        25.91445039+0.j, 26.00861472+0.j, 27.35684946+0.j,\n",
       "        28.50281478+0.j, 29.35751213+0.j],\n",
       "       [ 6.10434496+0.j,  5.72626517+0.j,  7.24646193+0.j,\n",
       "         6.54514618+0.j,  7.060373  +0.j,  7.95172892+0.j,\n",
       "         8.24362908+0.j,  8.55903732+0.j,  8.74515117+0.j,\n",
       "        10.00088216+0.j,  9.3289515 +0.j, 11.51912822+0.j,\n",
       "        10.35352812+0.j, 13.02562025+0.j, 12.64754045+0.j,\n",
       "        12.07551909+0.j, 13.24309481+0.j, 13.49973287+0.j,\n",
       "        13.90329636+0.j, 14.51843247+0.j]])"
      ]
     },
     "execution_count": 34,
     "metadata": {},
     "output_type": "execute_result"
    }
   ],
   "source": [
    "U @ S @ V.T"
   ]
  },
  {
   "cell_type": "code",
   "execution_count": 35,
   "id": "56f04e90",
   "metadata": {},
   "outputs": [
    {
     "data": {
      "text/plain": [
       "array([[10.  , 11.  , 12.  , 13.  , 14.  , 15.  , 16.  , 17.  , 18.  ,\n",
       "        19.  , 20.  , 21.  , 22.  , 23.  , 24.  , 25.  , 26.  , 27.  ,\n",
       "        28.  , 29.  ],\n",
       "       [ 3.38,  5.4 ,  4.19,  6.76,  7.26,  7.12,  8.  ,  8.84,  9.9 ,\n",
       "         9.14, 11.66,  9.31, 12.67,  9.5 , 11.52, 13.87, 13.26, 14.2 ,\n",
       "        14.89, 15.22]])"
      ]
     },
     "execution_count": 35,
     "metadata": {},
     "output_type": "execute_result"
    }
   ],
   "source": [
    "A"
   ]
  },
  {
   "cell_type": "code",
   "execution_count": 36,
   "id": "0682f635",
   "metadata": {},
   "outputs": [
    {
     "data": {
      "text/plain": [
       "(2, 2)"
      ]
     },
     "execution_count": 36,
     "metadata": {},
     "output_type": "execute_result"
    }
   ],
   "source": [
    "U.shape"
   ]
  },
  {
   "cell_type": "code",
   "execution_count": 37,
   "id": "714b451f",
   "metadata": {},
   "outputs": [
    {
     "data": {
      "text/plain": [
       "array([[-0.89098309, -0.4540365 ],\n",
       "       [-0.4540365 ,  0.89098309]])"
      ]
     },
     "execution_count": 37,
     "metadata": {},
     "output_type": "execute_result"
    }
   ],
   "source": [
    "U"
   ]
  },
  {
   "cell_type": "code",
   "execution_count": 54,
   "id": "01bef383",
   "metadata": {},
   "outputs": [
    {
     "data": {
      "image/png": "[encoded data removed]",
      "text/plain": [
       "<Figure size 640x480 with 1 Axes>"
      ]
     },
     "metadata": {},
     "output_type": "display_data"
    }
   ],
   "source": [
    "import numpy as np\n",
    "import matplotlib.pyplot as plt\n",
    "\n",
    "# Define the array\n",
    "# vectors = U\n",
    "\n",
    "# Plotting\n",
    "fig, ax = plt.subplots()\n",
    "\n",
    "# Plot the vectors as lines from the origin\n",
    "# for i in range(U.shape[1]):\n",
    "ax.plot([0, -1 * U[0, 0] * temp[0]],[0,-1 * U[1, 0] * temp[0]], label=f'Vector {0+1}')\n",
    "ax.plot([0, U[0, 1] * temp[1]], [0, U[1, 1] * temp[1]], label=f'Vector {0+1}')\n",
    "\n",
    "# Add labels and legend\n",
    "ax.set_xlabel('X-axis')\n",
    "ax.set_ylabel('Y-axis')\n",
    "ax.set_title('Plot of Vectors from the Origin')\n",
    "ax.legend()\n",
    "\n",
    "# Display the plot\n",
    "plt.grid(True)\n",
    "ax.set_aspect('equal')\n",
    "\n",
    "\n",
    "plt.scatter(x, y, label='Data points')\n",
    "\n",
    "# Adjust the axis limits to include negative values\n",
    "plt.xlim(-5, 35)\n",
    "plt.ylim(-5, 35)\n",
    "\n",
    "# Show the plot\n",
    "plt.show()\n"
   ]
  },
  {
   "cell_type": "code",
   "execution_count": 39,
   "id": "3fbc407b",
   "metadata": {},
   "outputs": [
    {
     "data": {
      "text/plain": [
       "(-0.8909830862294242, -0.4540364963888811)"
      ]
     },
     "execution_count": 39,
     "metadata": {},
     "output_type": "execute_result"
    }
   ],
   "source": [
    "U[0, 0],U[1, 0]   # x and y of the first vector"
   ]
  },
  {
   "cell_type": "code",
   "execution_count": 40,
   "id": "fc33c694",
   "metadata": {},
   "outputs": [
    {
     "data": {
      "text/plain": [
       "(-0.4540364963888811, 0.8909830862294242)"
      ]
     },
     "execution_count": 40,
     "metadata": {},
     "output_type": "execute_result"
    }
   ],
   "source": [
    "U[0, 1],U[1, 1] # x and y of the second vector"
   ]
  },
  {
   "cell_type": "code",
   "execution_count": 41,
   "id": "939ebe12",
   "metadata": {},
   "outputs": [
    {
     "name": "stderr",
     "output_type": "stream",
     "text": [
      "/usr/lib/python3/dist-packages/matplotlib/collections.py:193: ComplexWarning: Casting complex values to real discards the imaginary part\n",
      "  offsets = np.asanyarray(offsets, float)\n",
      "No artists with labels found to put in legend.  Note that artists whose label start with an underscore are ignored when legend() is called with no argument.\n"
     ]
    },
    {
     "data": {
      "image/png": "[encoded data removed]",
      "text/plain": [
       "<Figure size 640x480 with 1 Axes>"
      ]
     },
     "metadata": {},
     "output_type": "display_data"
    }
   ],
   "source": [
    "x_coords = V.T[0, :] * temp[0]\n",
    "y_coords = V.T[1, :] * temp[1]\n",
    "fig, ax = plt.subplots()\n",
    "\n",
    "# Plot the points\n",
    "ax.scatter(x_coords, y_coords)\n",
    "\n",
    "# Add labels and legend\n",
    "ax.set_xlabel('X-axis')\n",
    "ax.set_ylabel('Y-axis')\n",
    "# ax.set_title('Plot of 20 pairs of (x, y) coordinates')\n",
    "ax.legend()\n",
    "\n",
    "# Add grid\n",
    "ax.grid(True)\n",
    "plt.ylim(-3, 3)\n",
    "plt.xlim(-40, -10)\n",
    "\n",
    "# Set equal aspect ratio\n",
    "ax.set_aspect('equal')\n",
    "\n",
    "# Show the plot\n",
    "plt.show()\n"
   ]
  },
  {
   "cell_type": "code",
   "execution_count": 42,
   "id": "508eb8f0",
   "metadata": {},
   "outputs": [
    {
     "data": {
      "text/plain": [
       "array([[ 8.61169975+0.j, 10.83373838+0.j, 10.44245611+0.j,\n",
       "        13.10948746+0.j, 14.10172802+0.j, 14.57615886+0.j,\n",
       "        15.87584894+0.j, 17.14317591+0.j, 18.58849997+0.j,\n",
       "        18.56130265+0.j, 21.18788012+0.j, 19.8742493 +0.j,\n",
       "        23.18045201+0.j, 21.2033775 +0.j, 23.42541612+0.j,\n",
       "        25.91445039+0.j, 26.00861472+0.j, 27.35684946+0.j,\n",
       "        28.50281478+0.j, 29.35751213+0.j],\n",
       "       [ 6.10434496+0.j,  5.72626517+0.j,  7.24646193+0.j,\n",
       "         6.54514618+0.j,  7.060373  +0.j,  7.95172892+0.j,\n",
       "         8.24362908+0.j,  8.55903732+0.j,  8.74515117+0.j,\n",
       "        10.00088216+0.j,  9.3289515 +0.j, 11.51912822+0.j,\n",
       "        10.35352812+0.j, 13.02562025+0.j, 12.64754045+0.j,\n",
       "        12.07551909+0.j, 13.24309481+0.j, 13.49973287+0.j,\n",
       "        13.90329636+0.j, 14.51843247+0.j]])"
      ]
     },
     "execution_count": 42,
     "metadata": {},
     "output_type": "execute_result"
    }
   ],
   "source": [
    "U @ S @ V.T"
   ]
  },
  {
   "cell_type": "code",
   "execution_count": 43,
   "id": "27ba8558",
   "metadata": {},
   "outputs": [
    {
     "data": {
      "text/plain": [
       "array([[10.  , 11.  , 12.  , 13.  , 14.  , 15.  , 16.  , 17.  , 18.  ,\n",
       "        19.  , 20.  , 21.  , 22.  , 23.  , 24.  , 25.  , 26.  , 27.  ,\n",
       "        28.  , 29.  ],\n",
       "       [ 3.38,  5.4 ,  4.19,  6.76,  7.26,  7.12,  8.  ,  8.84,  9.9 ,\n",
       "         9.14, 11.66,  9.31, 12.67,  9.5 , 11.52, 13.87, 13.26, 14.2 ,\n",
       "        14.89, 15.22]])"
      ]
     },
     "execution_count": 43,
     "metadata": {},
     "output_type": "execute_result"
    }
   ],
   "source": [
    "A"
   ]
  },
  {
   "cell_type": "code",
   "execution_count": 44,
   "id": "1520ee59",
   "metadata": {},
   "outputs": [
    {
     "data": {
      "text/plain": [
       "array([[102.04471334,   0.        ],\n",
       "       [  0.        ,   0.        ]])"
      ]
     },
     "execution_count": 44,
     "metadata": {},
     "output_type": "execute_result"
    }
   ],
   "source": [
    "S1 = S\n",
    "S1[1,1] = 0\n",
    "S1"
   ]
  },
  {
   "cell_type": "code",
   "execution_count": 45,
   "id": "8dfaf164",
   "metadata": {},
   "outputs": [
    {
     "data": {
      "text/plain": [
       "array([[ 9.30584987+0.j, 10.91686919+0.j, 11.22122805+0.j,\n",
       "        13.05474373+0.j, 14.05086401+0.j, 14.78807943+0.j,\n",
       "        15.93792447+0.j, 17.07158795+0.j, 18.29424998+0.j,\n",
       "        18.78065133+0.j, 20.59394006+0.j, 20.43712465+0.j,\n",
       "        22.59022601+0.j, 22.10168875+0.j, 23.71270806+0.j,\n",
       "        25.45722519+0.j, 26.00430736+0.j, 27.17842473+0.j,\n",
       "        28.25140739+0.j, 29.17875607+0.j],\n",
       "       [ 4.74217248+0.j,  5.56313258+0.j,  5.71823096+0.j,\n",
       "         6.65257309+0.j,  7.1601865 +0.j,  7.53586446+0.j,\n",
       "         8.12181454+0.j,  8.69951866+0.j,  9.32257559+0.j,\n",
       "         9.57044108+0.j, 10.49447575+0.j, 10.41456411+0.j,\n",
       "        11.51176406+0.j, 11.26281012+0.j, 12.08377022+0.j,\n",
       "        12.97275954+0.j, 13.25154741+0.j, 13.84986644+0.j,\n",
       "        14.39664818+0.j, 14.86921624+0.j]])"
      ]
     },
     "execution_count": 45,
     "metadata": {},
     "output_type": "execute_result"
    }
   ],
   "source": [
    "A1 = U @ S1 @ V.T\n",
    "A1"
   ]
  },
  {
   "cell_type": "code",
   "execution_count": 46,
   "id": "5aeaa267",
   "metadata": {},
   "outputs": [
    {
     "data": {
      "text/plain": [
       "(array([ 9.30584987+0.j, 10.91686919+0.j, 11.22122805+0.j, 13.05474373+0.j,\n",
       "        14.05086401+0.j, 14.78807943+0.j, 15.93792447+0.j, 17.07158795+0.j,\n",
       "        18.29424998+0.j, 18.78065133+0.j, 20.59394006+0.j, 20.43712465+0.j,\n",
       "        22.59022601+0.j, 22.10168875+0.j, 23.71270806+0.j, 25.45722519+0.j,\n",
       "        26.00430736+0.j, 27.17842473+0.j, 28.25140739+0.j, 29.17875607+0.j]),\n",
       " array([10., 11., 12., 13., 14., 15., 16., 17., 18., 19., 20., 21., 22.,\n",
       "        23., 24., 25., 26., 27., 28., 29.]))"
      ]
     },
     "execution_count": 46,
     "metadata": {},
     "output_type": "execute_result"
    }
   ],
   "source": [
    "A1[0], A[0]"
   ]
  },
  {
   "cell_type": "code",
   "execution_count": 47,
   "id": "989cdec1",
   "metadata": {},
   "outputs": [
    {
     "data": {
      "text/plain": [
       "(array([ 4.74217248+0.j,  5.56313258+0.j,  5.71823096+0.j,  6.65257309+0.j,\n",
       "         7.1601865 +0.j,  7.53586446+0.j,  8.12181454+0.j,  8.69951866+0.j,\n",
       "         9.32257559+0.j,  9.57044108+0.j, 10.49447575+0.j, 10.41456411+0.j,\n",
       "        11.51176406+0.j, 11.26281012+0.j, 12.08377022+0.j, 12.97275954+0.j,\n",
       "        13.25154741+0.j, 13.84986644+0.j, 14.39664818+0.j, 14.86921624+0.j]),\n",
       " array([ 3.38,  5.4 ,  4.19,  6.76,  7.26,  7.12,  8.  ,  8.84,  9.9 ,\n",
       "         9.14, 11.66,  9.31, 12.67,  9.5 , 11.52, 13.87, 13.26, 14.2 ,\n",
       "        14.89, 15.22]))"
      ]
     },
     "execution_count": 47,
     "metadata": {},
     "output_type": "execute_result"
    }
   ],
   "source": [
    "A1[1], A[1]"
   ]
  },
  {
   "cell_type": "code",
   "execution_count": 48,
   "id": "5f4186ce",
   "metadata": {},
   "outputs": [
    {
     "data": {
      "text/plain": [
       "((20,), (20,))"
      ]
     },
     "execution_count": 48,
     "metadata": {},
     "output_type": "execute_result"
    }
   ],
   "source": [
    "A1[0].shape, x.shape"
   ]
  },
  {
   "cell_type": "code",
   "execution_count": 56,
   "id": "ba84630b",
   "metadata": {},
   "outputs": [
    {
     "data": {
      "text/plain": [
       "(0.0, 20.0)"
      ]
     },
     "execution_count": 56,
     "metadata": {},
     "output_type": "execute_result"
    },
    {
     "data": {
      "image/png": "[encoded data removed]",
      "text/plain": [
       "<Figure size 640x480 with 1 Axes>"
      ]
     },
     "metadata": {},
     "output_type": "display_data"
    }
   ],
   "source": [
    "fig, ax = plt.subplots()\n",
    "plt.scatter(A1[0], A1[1], label='Data points')\n",
    "# ax.set_aspect('equal')\n",
    "ax.plot([0, -1 * U[0, 0] * temp[0]],[0,-1 * U[1, 0] * temp[0]], label=f'Vector {0+1}')\n",
    "ax.plot([0, U[0, 1] * temp[1]], [0, U[1, 1] * temp[1]], label=f'Vector {0+1}')\n",
    "\n",
    "plt.xlim(0, 35)\n",
    "plt.ylim(0, 20)"
   ]
  },
  {
   "cell_type": "markdown",
   "id": "ff61cbe8",
   "metadata": {},
   "source": []
  }
 ],
 "metadata": {
  "kernelspec": {
   "display_name": "Python 3 (ipykernel)",
   "language": "python",
   "name": "python3"
  },
  "language_info": {
   "codemirror_mode": {
    "name": "ipython",
    "version": 3
   },
   "file_extension": ".py",
   "mimetype": "text/x-python",
   "name": "python",
   "nbconvert_exporter": "python",
   "pygments_lexer": "ipython3",
   "version": "3.11.2"
  }
 },
 "nbformat": 4,
 "nbformat_minor": 5
}
